{
  "cells": [
    {
      "cell_type": "markdown",
      "metadata": {
        "id": "view-in-github",
        "colab_type": "text"
      },
      "source": [
        "<a href=\"https://colab.research.google.com/github/hemillyraiky/telecomx_alura_one/blob/main/TelecomX_BR.ipynb\" target=\"_parent\"><img src=\"https://colab.research.google.com/assets/colab-badge.svg\" alt=\"Open In Colab\"/></a>"
      ]
    },
    {
      "cell_type": "markdown",
      "metadata": {
        "id": "4foVEKhrlqcH"
      },
      "source": [
        "#📌 Extracão"
      ]
    },
    {
      "cell_type": "code",
      "execution_count": null,
      "metadata": {
        "id": "1--uPM88l7JH"
      },
      "outputs": [],
      "source": [
        "import pandas as pd\n",
        "import requests\n",
        "import numpy as np\n",
        "import matplotlib.pyplot as plt\n",
        "import seaborn as sns"
      ]
    },
    {
      "cell_type": "code",
      "source": [
        "url_dados = 'https://raw.githubusercontent.com/alura-cursos/challenge2-data-science/main/TelecomX_Data.json'\n",
        "resposta = requests.get(url_dados)\n",
        "dados_json = resposta.json()"
      ],
      "metadata": {
        "id": "PyuOyypdjl1t"
      },
      "execution_count": null,
      "outputs": []
    },
    {
      "cell_type": "code",
      "source": [
        "tabela_clientes = pd.json_normalize(dados_json)"
      ],
      "metadata": {
        "id": "aSsZJikNjp9a"
      },
      "execution_count": null,
      "outputs": []
    },
    {
      "cell_type": "code",
      "source": [
        "tabela_clientes.head()"
      ],
      "metadata": {
        "id": "YnoTRie0jrzh"
      },
      "execution_count": null,
      "outputs": []
    },
    {
      "cell_type": "markdown",
      "metadata": {
        "id": "1lSZP8zmmGZu"
      },
      "source": [
        "#🔧 Transformação"
      ]
    },
    {
      "cell_type": "code",
      "source": [
        "tabela_clientes.iloc[0]"
      ],
      "metadata": {
        "collapsed": true,
        "id": "E2V2y2aOjsVz"
      },
      "execution_count": null,
      "outputs": []
    },
    {
      "cell_type": "code",
      "execution_count": null,
      "metadata": {
        "id": "bsm-WTLjmHvt",
        "collapsed": true
      },
      "outputs": [],
      "source": [
        "tabela_clientes.info()"
      ]
    },
    {
      "cell_type": "code",
      "source": [
        "tabela_clientes.isnull().sum()\n",
        "tabela_clientes.isnull().mean().sort_values(ascending=False)"
      ],
      "metadata": {
        "collapsed": true,
        "id": "Ei4nSjKZk9_O"
      },
      "execution_count": null,
      "outputs": []
    },
    {
      "cell_type": "code",
      "source": [
        "tabela_clientes.duplicated().sum()\n",
        "tabela_clientes[tabela_clientes.duplicated()]"
      ],
      "metadata": {
        "collapsed": true,
        "id": "6yZx5PlSlFVT"
      },
      "execution_count": null,
      "outputs": []
    },
    {
      "cell_type": "code",
      "source": [
        "tabela_clientes['account.Charges.Total'] = pd.to_numeric(\n",
        "    tabela_clientes['account.Charges.Total'], errors='coerce')"
      ],
      "metadata": {
        "id": "P_1WqjjNlE58"
      },
      "execution_count": null,
      "outputs": []
    },
    {
      "cell_type": "code",
      "source": [
        "tabela_clientes['account.PaymentMethod'] = tabela_clientes['account.PaymentMethod'].str.strip().str.title()"
      ],
      "metadata": {
        "id": "H33NwD7alR58"
      },
      "execution_count": null,
      "outputs": []
    },
    {
      "cell_type": "code",
      "source": [
        "(tabela_clientes == '').sum()\n",
        "tabela_clientes['Churn'] = tabela_clientes['Churn'].fillna('No')"
      ],
      "metadata": {
        "id": "w0A6QIyzlSRe"
      },
      "execution_count": null,
      "outputs": []
    },
    {
      "cell_type": "code",
      "source": [
        "tabela_clientes['Fatura_Diaria'] = tabela_clientes['account.Charges.Monthly'] / 30"
      ],
      "metadata": {
        "id": "D-hYTWDFlSfr"
      },
      "execution_count": null,
      "outputs": []
    },
    {
      "cell_type": "code",
      "source": [
        "tabela_clientes['customer.gender'] = tabela_clientes['customer.gender'].replace({'Female': 'Feminino','Male': 'Masculino'})"
      ],
      "metadata": {
        "id": "X-7urZXfmbni"
      },
      "execution_count": null,
      "outputs": []
    },
    {
      "cell_type": "code",
      "source": [
        "colunas_binarias = [\n",
        "    'Churn', 'customer.Partner', 'customer.Dependents', 'phone.PhoneService','phone.MultipleLines', 'internet.OnlineSecurity', 'internet.OnlineBackup','internet.DeviceProtection', 'internet.TechSupport',\n",
        "    'internet.StreamingTV','internet.StreamingMovies', 'account.PaperlessBilling']"
      ],
      "metadata": {
        "id": "Pm02HhABmbzk"
      },
      "execution_count": null,
      "outputs": []
    },
    {
      "cell_type": "code",
      "source": [
        "valores_binarios = {\n",
        "    'Yes': 1,\n",
        "    'No': 0,\n",
        "    '': 0,\n",
        "    'No internet service': 0,\n",
        "    'No phone service': 0\n",
        "}"
      ],
      "metadata": {
        "id": "tUdv0dW_moRX"
      },
      "execution_count": null,
      "outputs": []
    },
    {
      "cell_type": "code",
      "source": [
        "for coluna in colunas_binarias:\n",
        "    tabela_clientes[coluna] = tabela_clientes[coluna].apply(lambda x: x.strip() if isinstance(x, str) else x)\n"
      ],
      "metadata": {
        "id": "z1yelfanmoG_"
      },
      "execution_count": null,
      "outputs": []
    },
    {
      "cell_type": "code",
      "source": [
        "for coluna in colunas_binarias:\n",
        "    tabela_clientes[coluna] = (tabela_clientes[coluna].apply(lambda x: x.strip() if isinstance(x, str) else x).replace(valores_binarios).astype('Int64'))"
      ],
      "metadata": {
        "id": "4i27RI6Pmoa4"
      },
      "execution_count": null,
      "outputs": []
    },
    {
      "cell_type": "code",
      "source": [
        "\n",
        "tabela_clientes.rename(columns={\n",
        "    'customer.gender': 'Gênero',\n",
        "    'customer.SeniorCitizen': 'Idoso',\n",
        "    'customer.Partner': 'Possui Parceiro',\n",
        "    'customer.Dependents': 'Possui Dependentes',\n",
        "    'customer.tenure': 'Meses de Contrato',\n",
        "    'phone.PhoneService': 'Telefone Ativo',\n",
        "    'phone.MultipleLines': 'Mais de uma Linha',\n",
        "    'internet.InternetService': 'Tipo de Internet',\n",
        "    'internet.OnlineSecurity': 'Segurança Online',\n",
        "    'internet.OnlineBackup': 'Backup Online',\n",
        "    'internet.DeviceProtection': 'Proteção de Dispositivo',\n",
        "    'internet.TechSupport': 'Suporte Técnico',\n",
        "    'internet.StreamingTV': 'Streaming de TV',\n",
        "    'internet.StreamingMovies': 'Streaming de Filmes',\n",
        "    'account.Contract': 'Tipo de Contrato',\n",
        "    'account.PaperlessBilling': 'Fatura Digital',\n",
        "    'account.PaymentMethod': 'Forma de Pagamento',\n",
        "    'account.Charges.Monthly': 'Valor Mensal',\n",
        "    'account.Charges.Total': 'Valor Total',\n",
        "    'Fatura_Diaria': 'Valor Diário',\n",
        "    'Churn': 'Churn'\n",
        "}, inplace=True)\n",
        "\n"
      ],
      "metadata": {
        "id": "nSuu9uJ6yKs9"
      },
      "execution_count": null,
      "outputs": []
    },
    {
      "cell_type": "code",
      "source": [
        "tabela_clientes.describe()"
      ],
      "metadata": {
        "id": "6WKSd792moj3"
      },
      "execution_count": null,
      "outputs": []
    },
    {
      "cell_type": "markdown",
      "metadata": {
        "id": "6XnTC2NTmMRL"
      },
      "source": [
        "#📊 Carga e análise"
      ]
    },
    {
      "cell_type": "code",
      "source": [
        "cor_1 = '#2a9d8f'  # azul petróleo\n",
        "cor_2 = '#e76f51'  # laranja queimado\n"
      ],
      "metadata": {
        "id": "WwlhoK_puCdh"
      },
      "execution_count": null,
      "outputs": []
    },
    {
      "cell_type": "code",
      "execution_count": null,
      "metadata": {
        "id": "1jgUnLqTmPdd"
      },
      "outputs": [],
      "source": [
        "contagem_churn = tabela_clientes['Churn'].value_counts().sort_index()\n",
        "plt.figure(figsize=(6, 4))\n",
        "contagem_churn.plot(kind='bar', color=[cor_1, cor_2])\n",
        "plt.title('Distribuição de Evasão (Churn)')\n",
        "plt.xticks(ticks=[0, 1], labels=['Permaneceu', 'Saiu'], rotation=0)\n",
        "plt.ylabel('Número de Clientes')\n",
        "plt.xlabel('Churn')\n",
        "plt.grid(axis='y', linestyle='--', alpha=0.7)\n",
        "plt.tight_layout()\n",
        "\n",
        "plt.show()"
      ]
    },
    {
      "cell_type": "code",
      "source": [
        "etiquetas = ['Permaneceu', 'Saiu']\n",
        "valores = tabela_clientes['Churn'].value_counts().sort_index()\n",
        "plt.figure(figsize=(5, 5))\n",
        "plt.pie(valores, labels=etiquetas, autopct='%1.1f%%', colors=[cor_1, cor_2], startangle=90)\n",
        "plt.title('Proporção de Clientes com Churn')\n",
        "plt.axis('equal')\n",
        "\n",
        "plt.show()"
      ],
      "metadata": {
        "id": "sar6CZ_csGUu"
      },
      "execution_count": null,
      "outputs": []
    },
    {
      "cell_type": "code",
      "source": [
        "def analisar_churn_categoria(nome_coluna):\n",
        "    plt.figure(figsize=(8, 4))\n",
        "    sns.countplot(data=tabela_clientes, x=nome_coluna, hue='Churn', palette='Set2')\n",
        "    plt.title(f'Churn por {nome_coluna}')\n",
        "    plt.xticks(rotation=0, ha='center')\n",
        "    plt.ylabel('Número de Clientes')\n",
        "    plt.xlabel(nome_coluna)\n",
        "    plt.legend(title='Churn', labels=['Permaneceu (0)', 'Saiu (1)'])\n",
        "    plt.grid(axis='y', linestyle='--', alpha=0.5)\n",
        "    plt.tight_layout()\n",
        "    plt.show()"
      ],
      "metadata": {
        "id": "0pA97QR0szf5"
      },
      "execution_count": null,
      "outputs": []
    },
    {
      "cell_type": "code",
      "source": [
        "tabela_clientes.columns\n"
      ],
      "metadata": {
        "id": "gPatsgmLasHw"
      },
      "execution_count": null,
      "outputs": []
    },
    {
      "cell_type": "code",
      "source": [
        "analisar_churn_categoria('Forma de Pagamento')\n",
        "analisar_churn_categoria('Tipo de Contrato')\n",
        "analisar_churn_categoria('Tipo de Internet')\n",
        "analisar_churn_categoria('Idoso')\n",
        "analisar_churn_categoria('Possui Parceiro')\n",
        "\n"
      ],
      "metadata": {
        "id": "xHi5X7v91pHj"
      },
      "execution_count": null,
      "outputs": []
    },
    {
      "cell_type": "code",
      "source": [
        "def boxplot_churn_coluna(nome_coluna):\n",
        "    plt.figure(figsize=(6, 4))\n",
        "    sns.boxplot(data=tabela_clientes, x='Churn', y=nome_coluna, palette=[cor_1, cor_2])\n",
        "    plt.title(f'{nome_coluna} x Churn')\n",
        "    plt.xlabel('Churn (0 = Ficou, 1 = Saiu)')\n",
        "    plt.ylabel(nome_coluna)\n",
        "    plt.grid(axis='y', linestyle='--', alpha=0.6)\n",
        "    plt.tight_layout()\n",
        "    plt.show()\n"
      ],
      "metadata": {
        "id": "0BPX0Yjq5dCa"
      },
      "execution_count": null,
      "outputs": []
    },
    {
      "cell_type": "code",
      "source": [
        "boxplot_churn_coluna('Meses de Contrato')\n",
        "boxplot_churn_coluna('Valor Mensal')\n",
        "boxplot_churn_coluna('Valor Total')\n",
        "boxplot_churn_coluna('Valor Diário')\n"
      ],
      "metadata": {
        "id": "0rXEXEoB5gWE"
      },
      "execution_count": null,
      "outputs": []
    },
    {
      "cell_type": "code",
      "source": [
        "correlacoes_com_churn = tabela_clientes.corr(numeric_only=True)['Churn'].sort_values(ascending=False)\n",
        "print(correlacoes_com_churn)\n",
        "\n",
        "# Ordenar colunas pela correlação com churn\n",
        "colunas_ordenadas = correlacoes_com_churn.index.tolist()\n",
        "\n",
        "# Criar matriz de correlação reordenada\n",
        "matriz_correlacao = tabela_clientes[colunas_ordenadas].corr(numeric_only=True)\n",
        "\n",
        "# Plotar heatmap\n",
        "plt.figure(figsize=(12, 8))\n",
        "sns.heatmap(\n",
        "    matriz_correlacao,\n",
        "    annot=True,\n",
        "    cmap='coolwarm',\n",
        "    fmt=\".2f\",\n",
        "    square=True,\n",
        "    linewidths=0.5,\n",
        "    cbar_kws={\"shrink\": 0.8}\n",
        ")\n",
        "plt.title('Matriz de Correlação entre Variáveis Numéricas')\n",
        "plt.tight_layout()\n",
        "plt.show()\n"
      ],
      "metadata": {
        "id": "gb_vzBD85gmu"
      },
      "execution_count": null,
      "outputs": []
    },
    {
      "cell_type": "markdown",
      "metadata": {
        "id": "v-WzfSvTmaw9"
      },
      "source": [
        "#📄Relatorio Final"
      ]
    },
    {
      "cell_type": "markdown",
      "source": [
        "\n",
        "# Relatório Final – Análise de Evasão de Clientes da Telecom X\n",
        "\n",
        "## 1. Introdução\n",
        "\n",
        "Este relatório apresenta o resultado da análise de dados realizada no contexto do projeto **Telecom X**, com o objetivo de entender os fatores que influenciam a evasão de clientes (churn) em uma empresa de telecomunicações. O foco principal foi aplicar o processo de ETL (Extração, Transformação e Carga) e realizar uma análise exploratória de dados (EDA), a fim de gerar insights que ajudem na construção de modelos preditivos por parte da equipe de ciência de dados.\n",
        "\n",
        "---\n",
        "\n",
        "## 2. Problema\n",
        "\n",
        "A **Telecom X** vem enfrentando uma taxa elevada de evasão de clientes, o que impacta diretamente sua receita e estabilidade no mercado. No entanto, os motivos exatos para essa evasão ainda são incertos. A proposta deste trabalho é preparar os dados de forma adequada e explorar possíveis padrões que possam justificar esse comportamento.\n",
        "\n",
        "---\n",
        "\n",
        "## 3. Processo de ETL\n",
        "\n",
        "### 📌 Extração\n",
        "Os dados foram extraídos via API diretamente do repositório público no GitHub:\n",
        "```\n",
        "https://raw.githubusercontent.com/alura-cursos/challenge2-data-science/main/TelecomX_Data.json\n",
        "```\n",
        "\n",
        "### 🔧 Transformação\n",
        "As etapas de transformação envolveram:\n",
        "\n",
        "- Conversão de colunas numéricas com erros de formatação.\n",
        "- Padronização de campos textuais (ex.: gênero, forma de pagamento).\n",
        "- Tratamento de valores nulos e vazios.\n",
        "- Criação de novas variáveis, como **Valor Diário da Fatura**.\n",
        "- Conversão de colunas binárias ('Yes'/'No') em valores 1 e 0.\n",
        "- Tradução e renomeação das colunas para facilitar a leitura.\n",
        "\n",
        "### 📊 Carga e Análise\n",
        "Com os dados tratados, foi realizada a análise exploratória com foco em:\n",
        "\n",
        "#### Distribuição de Churn\n",
        "- **27%** dos clientes deixaram a empresa.\n",
        "- Gráficos de barra e pizza representaram essa distribuição.\n",
        "\n",
        "#### Análise por Categoria\n",
        "Foram analisados os impactos do churn em variáveis como:\n",
        "\n",
        "- **Gênero** (sem grandes diferenças)\n",
        "- **Tipo de Contrato**: contratos mensais estão mais associados ao churn.\n",
        "- **Forma de Pagamento**: pagamentos eletrônicos e automáticos têm maior evasão.\n",
        "- **Internet e Streaming**: clientes com serviços extras têm mais churn.\n",
        "\n",
        "#### Análise Numérica (Boxplots)\n",
        "- **Clientes com menos meses de contrato** tendem a sair mais.\n",
        "- Faturas mensais e totais mais altas estão relacionadas com evasão.\n",
        "\n",
        "#### Matriz de Correlação\n",
        "- As variáveis mais correlacionadas com churn foram:\n",
        "  - `Tipo de Contrato`\n",
        "  - `Fatura Digital`\n",
        "  - `Valor Mensal`\n",
        "  - `Meses de Contrato` (inversamente)\n",
        "\n",
        "---\n",
        "\n",
        "## 4. Conclusão\n",
        "\n",
        "A análise demonstrou que os principais fatores associados ao churn são:\n",
        "\n",
        "- Baixo tempo de contrato\n",
        "- Alta fatura mensal\n",
        "- Pagamentos eletrônicos ou automatizados\n",
        "- Contratos mensais e sem fidelização\n",
        "\n",
        "Esses padrões podem ser explorados em futuros modelos preditivos para identificar clientes com maior risco de evasão.\n",
        "\n",
        "---\n",
        "\n",
        "📌 *Este relatório resume a primeira fase do projeto Telecom X, focando na estruturação e análise inicial dos dados. As próximas etapas poderão se beneficiar deste trabalho para tomada de decisão e desenvolvimento de soluções baseadas em dados.*\n"
      ],
      "metadata": {
        "id": "BXFe4Y_hinda"
      }
    }
  ],
  "metadata": {
    "colab": {
      "provenance": [],
      "include_colab_link": true
    },
    "kernelspec": {
      "display_name": "Python 3",
      "name": "python3"
    },
    "language_info": {
      "name": "python"
    }
  },
  "nbformat": 4,
  "nbformat_minor": 0
}
